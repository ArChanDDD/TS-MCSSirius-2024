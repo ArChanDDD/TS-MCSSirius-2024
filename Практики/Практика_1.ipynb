{
  "cells": [
    {
      "cell_type": "markdown",
      "metadata": {
        "id": "E6M4vQMWn-rK"
      },
      "source": [
        "# Практика 1\n",
        "\n",
        "---\n",
        "\n",
        "Общие правила:\n",
        "\n",
        "* Каждый день помимо лекции будет 1 практика - это `jupyter`-ноутбук, в котором есть задачки на разное количество правил.\n",
        "* Рекомендуем выполнять задания в ноутбуке последовательно - они могут быть связаны друг с другом\n",
        "* Выполнение не обязательно, но точно поможет лучше понять тему\n",
        "* После выполнения практики (даже не целиком) следует скинуть ее проверяющим в телеграме в личку - либо Мише, либо Владу, как удобно)\n",
        "* Также практика - отличный повод обсудить какие-то интересующие вещи (но если будут другие вопросы - все равно пишите).\n",
        "\n",
        "---"
      ]
    },
    {
      "cell_type": "markdown",
      "source": [
        "На этой практике мы посмотрим на пример временного ряда, построим модели из лекции и получим первые приближения наших предсказаний!\n",
        "\n",
        "Для начала склонируем наш репозиторий - там лежат нужные нам данные:"
      ],
      "metadata": {
        "id": "JNd3cz-loCRg"
      }
    },
    {
      "cell_type": "code",
      "execution_count": null,
      "metadata": {
        "id": "dk2QwOL2n-rN"
      },
      "outputs": [],
      "source": [
        "!git clone https://github.com/ArChanDDD/TS-MCSSirius-2024.git"
      ]
    },
    {
      "cell_type": "markdown",
      "metadata": {
        "id": "au3YiB_gn-rP"
      },
      "source": [
        "## Шаг 1: Знакомство с Pandas (1 балл)\n",
        "\n",
        "В наше время, почти в любой ML-задаче нужно работать с _датасетами_ - структурированным набором данных. По большому счеты, это может быть обычный `.txt`-файл, но, само собой, работать с ним может быть не очень удобно.\n",
        "\n",
        "Поэтому существуют библиотеки, которые предоставляют удобный функционал для работы с датасетами. `Pandas` - наверное, самая популярная такая библиотека.\n",
        "\n",
        "На этом шаге мы познакомимся с этой библиотекой, посмотрим на функционал, и научимся выполнять базовые действия с датасетом."
      ]
    },
    {
      "cell_type": "code",
      "execution_count": null,
      "metadata": {
        "id": "vrRGsEdvn-rP"
      },
      "outputs": [],
      "source": [
        "# Импортируем ее\n",
        "import pandas as pd\n",
        "# А эта библиотека для красивых графиков\n",
        "import matplotlib.pyplot as plt\n",
        "# А это чтобы крутые операции быстро делать\n",
        "import numpy as np"
      ]
    },
    {
      "cell_type": "markdown",
      "metadata": {
        "id": "H_aNiv0Xn-rQ"
      },
      "source": [
        "Все это время мы будем работать со датасетом `DailyDelhiClimate` - он содержит информацию о погодных условиях в Дели в 2013-2017 годах.\n",
        "\n",
        "Сначала стоит посмотреть, что там вообще есть:"
      ]
    },
    {
      "cell_type": "code",
      "execution_count": null,
      "metadata": {
        "id": "adtV-rhYn-rQ"
      },
      "outputs": [],
      "source": [
        "# Операция номер 0 -- чтение датасета.\n",
        "df = pd.read_csv('TS-MCSSirius-2024/data/DailyDelhiClimateTrain.csv')\n",
        "\n",
        "# Выводим только первые 5 строк:\n",
        "df.head(5)"
      ]
    },
    {
      "cell_type": "markdown",
      "metadata": {
        "id": "TW6f_DwKn-rR"
      },
      "source": [
        "Понимать `pandas`-датасеты нужно так:\n",
        "* Строчки - это записи\n",
        "* Столбцы - это параметры, _фичи_\n",
        "\n",
        "Получается, из параметров у нас есть\n",
        "\n",
        "* Дата\n",
        "* Средняя температура\n",
        "* Влажность\n",
        "* Скорость ветра\n",
        "* Среднее давление\n",
        "\n",
        "Например: 1 января 2013 года средняя температура была 10 градусов, влажность - 84.5, ветра не было, среднее давление - 1015 мм.рт.ст.\n",
        "\n",
        "---\n",
        "\n",
        "А теперь давайте разберемся, какие операции с датасетом можно делать (хотя корректнее его называть _ДатаФрейм_, но как удобно):"
      ]
    },
    {
      "cell_type": "code",
      "execution_count": null,
      "metadata": {
        "id": "7s6jPiw2n-rR"
      },
      "outputs": [],
      "source": [
        "# Cложение столбцов\n",
        "df['meantemp'] + df['humidity']"
      ]
    },
    {
      "cell_type": "markdown",
      "metadata": {
        "id": "G1XtedpAn-rR"
      },
      "source": [
        "Возвращает пандасовскую структуру - если хотим работать с ней как с чем-то более привычным, сделаем так:"
      ]
    },
    {
      "cell_type": "code",
      "execution_count": null,
      "metadata": {
        "id": "7zS4PCrVn-rR"
      },
      "outputs": [],
      "source": [
        "# Cложение столбцов, и список на выход\n",
        "list(df['meantemp'] + df['humidity'])"
      ]
    },
    {
      "cell_type": "markdown",
      "metadata": {
        "id": "W0_ketHun-rS"
      },
      "source": [
        "и вот это уже обычный список - а с ним можно спокойно работать :)\n",
        "\n",
        "Можно кстати создать новый столбец из списка:"
      ]
    },
    {
      "cell_type": "code",
      "execution_count": null,
      "metadata": {
        "id": "CYjoSvQ4n-rS"
      },
      "outputs": [],
      "source": [
        "df['meantemp + humidity'] = list(df['meantemp'] + df['humidity'])\n",
        "df"
      ]
    },
    {
      "cell_type": "markdown",
      "metadata": {
        "id": "WVIYYsWyn-rT"
      },
      "source": [
        "Здорово, да?\n",
        "\n",
        "Помимо этого, столбцы аналогично поддерживают вычитание, деление, умножение, а также можно делать все эти действия с константой:"
      ]
    },
    {
      "cell_type": "code",
      "execution_count": null,
      "metadata": {
        "id": "w8M4bigcn-rT"
      },
      "outputs": [],
      "source": [
        "# [:5] чтобы вернуть только первые 5 значений\n",
        "(df['meantemp'] * 2)[:5]"
      ]
    },
    {
      "cell_type": "markdown",
      "metadata": {
        "id": "yiQLqzYXn-rT"
      },
      "source": [
        "Давай чуть-чуть попрактикуемся - посчитай для первых пяти записей разность удвоенной температуры и скорости ветра:"
      ]
    },
    {
      "cell_type": "markdown",
      "metadata": {
        "id": "GV1VdD3Un-rU"
      },
      "source": [
        "### Задачка 1 (0.5 балла)"
      ]
    },
    {
      "cell_type": "code",
      "execution_count": null,
      "metadata": {
        "id": "dplql1tOn-rU"
      },
      "outputs": [],
      "source": [
        "# TODO\n",
        "\n",
        "result = ...\n",
        "\n",
        "assert len(result) == 5, \"Нужно посчитать только для первых 5 записей\"\n",
        "assert np.allclose(list(result), [20.0, 11.82, 9.7, 16.1, 8.3]), \"Что-то посчитано не так\""
      ]
    },
    {
      "cell_type": "markdown",
      "metadata": {
        "id": "8HdPaxlTn-rU"
      },
      "source": [
        "Иногда появляется необходимость итерироваться по записям в датасете - и, к сожалению, в пандасе с этим все грустно.\n",
        "Но есть иной вариант:"
      ]
    },
    {
      "cell_type": "code",
      "execution_count": null,
      "metadata": {
        "id": "Eq0LsO7vn-rV"
      },
      "outputs": [],
      "source": [
        "# Обернем датасет в массив из numpy\n",
        "np.array(df[:5])"
      ]
    },
    {
      "cell_type": "markdown",
      "metadata": {
        "id": "vaqotMXCn-rV"
      },
      "source": [
        "Как видно, теперь это обычный список из списков, каждый из которых соответствует одной записи. А по списку итерироваться уже не так и сложно!"
      ]
    },
    {
      "cell_type": "markdown",
      "metadata": {
        "id": "mAkQnJ0mn-rV"
      },
      "source": [
        "### Задачка 2 (0.5 балла)\n",
        "\n",
        "Следующая задачка - посчитать сумму всех температур с помощью цикла `for`."
      ]
    },
    {
      "cell_type": "code",
      "execution_count": null,
      "metadata": {
        "id": "yJyWat3Fn-rV"
      },
      "outputs": [],
      "source": [
        "# TODO\n",
        "\n",
        "result = ...\n",
        "\n",
        "assert np.isclose(result, 37274.45)"
      ]
    },
    {
      "cell_type": "markdown",
      "metadata": {
        "id": "3QnG8HYqn-rW"
      },
      "source": [
        "Но вообще эту задачу можно было решить и так:"
      ]
    },
    {
      "cell_type": "code",
      "execution_count": null,
      "metadata": {
        "id": "hhZkafHln-rW"
      },
      "outputs": [],
      "source": [
        "result_2 = sum(df['meantemp'])\n",
        "\n",
        "print(f'Было  - {result}')\n",
        "print(f'Стало - {result_2}')"
      ]
    },
    {
      "cell_type": "markdown",
      "metadata": {
        "id": "yI9MFj-Mn-rW"
      },
      "source": [
        "# Шаг 2: Обзор данных\n",
        "\n",
        "Раз уж мы там в датасет напихали всякого, давайте заново его импортируем\n",
        "\n"
      ]
    },
    {
      "cell_type": "code",
      "execution_count": null,
      "metadata": {
        "id": "p-4vUaIEn-rW"
      },
      "outputs": [],
      "source": [
        "df = pd.read_csv('TS-MCSSirius-2024/data/DailyDelhiClimateTrain.csv')\n",
        "df.head()"
      ]
    },
    {
      "cell_type": "markdown",
      "metadata": {
        "id": "pxt_nkeCn-rX"
      },
      "source": [
        "На самом деле тут есть проблемка, которую мы сейчас пофиксим:"
      ]
    },
    {
      "cell_type": "code",
      "execution_count": null,
      "metadata": {
        "id": "YeBx1OPen-rX"
      },
      "outputs": [],
      "source": [
        "df['date']"
      ]
    },
    {
      "cell_type": "markdown",
      "metadata": {
        "id": "J6tcKVGnn-rX"
      },
      "source": [
        "Как мы видим, тип стоит `object` - это плохо, потому что графики будут кривыми (можете построить, если интересно). Но это фиксится просто:"
      ]
    },
    {
      "cell_type": "code",
      "execution_count": null,
      "metadata": {
        "id": "NJka8wgmn-rY"
      },
      "outputs": [],
      "source": [
        "from datetime import datetime\n",
        "\n",
        "df['date'] = [datetime.strptime(x, '%Y-%m-%d') for x in list(df['date'])]\n",
        "\n",
        "df['date']"
      ]
    },
    {
      "cell_type": "markdown",
      "metadata": {
        "id": "CROlHItbn-rY"
      },
      "source": [
        "Теперь хорошо!\n",
        "\n",
        "**Наша главная цель** - научиться предсказывать температуру, поэтому, чтобы не забыть, создадим столбец `target`, который будет равен столбцу `meantemp`."
      ]
    },
    {
      "cell_type": "code",
      "execution_count": null,
      "metadata": {
        "id": "tAdHreh2n-rY"
      },
      "outputs": [],
      "source": [
        "df['target'] = df['meantemp']"
      ]
    },
    {
      "cell_type": "markdown",
      "metadata": {
        "id": "OFMCVIXSn-rY"
      },
      "source": [
        "А теперь давайте вообще посмотрим на наш временной ряд:"
      ]
    },
    {
      "cell_type": "code",
      "execution_count": null,
      "metadata": {
        "id": "Blq7xvTan-rY"
      },
      "outputs": [],
      "source": [
        "_, _ = plt.subplots(1,1,figsize=(20,10))\n",
        "_ = plt.plot(df['date'], df['target']) # это значит, что по оси ОХ будет дата, а по оси OY будет наша температура"
      ]
    },
    {
      "cell_type": "markdown",
      "metadata": {
        "id": "u0lRi8bun-rY"
      },
      "source": [
        "Первое правило при работе с любой задачей машинного обучения - понять, что за данные. Что мы можем сказать про этот ряд? Есть ли у него тренд? А периодичность? Можно его назвать стационарным?"
      ]
    },
    {
      "cell_type": "markdown",
      "metadata": {
        "id": "AkbsBK-fn-rY"
      },
      "source": [
        "# Шаг 3: Наивная модель (3 балла)"
      ]
    },
    {
      "cell_type": "markdown",
      "metadata": {
        "id": "xKEQxsJGn-rZ"
      },
      "source": [
        "Понимаю, хочется начать предсказывать - мы же тут как раз для этого!\n",
        "\n",
        "Поэтому, давайте начнем с базовой модели - наивной. На всякий случай напомню, что это:\n",
        "\n",
        "> **Наивной моделью** для задачи прогнозирования временных рядов называется модель, которая сопоставляет $y_t$ значение, которое было $lag$ шагов назад - то есть $y_{t-lag}$\n",
        "\n",
        "> Для оценки наших моделей мы будем использовать валидацию на последнем \"горбу\" - вот этой четвертой горке на графике.\n",
        "\n",
        "> Для этого мы разобьем датасет на две части - на одной мы будем обучаться, а на другой проверять качество наших моделек. Такие датасеты принято называть `train` и `val` -- для обучения и валидации соответственно."
      ]
    },
    {
      "cell_type": "code",
      "execution_count": null,
      "metadata": {
        "id": "zatLZcp_n-rZ"
      },
      "outputs": [],
      "source": [
        "# Валидация начнется с 1117 значения\n",
        "val_start = 1117\n",
        "\n",
        "df_train = df[:val_start]\n",
        "df_val = df[val_start:]\n",
        "\n",
        "_, _ = plt.subplots(1,1,figsize=(20,10))\n",
        "_ = plt.plot(df_train['date'], df_train['target'], label='train')\n",
        "_ = plt.plot(df_val['date'], df_val['target'], label='val')\n",
        "_ = plt.legend()"
      ]
    },
    {
      "cell_type": "code",
      "execution_count": null,
      "metadata": {
        "id": "XK61jTjln-rZ"
      },
      "outputs": [],
      "source": [
        "# Просто функция для построения графиков, можете не обращать много внимания)\n",
        "def plot_graph(y_pred):\n",
        "  _, _ = plt.subplots(1,1,figsize=(18,10))\n",
        "  _ = plt.plot(df_train['date'], df_train['target'], label='train')\n",
        "  _ = plt.plot(df_val['date'], df_val['target'], label='val')\n",
        "  _ = plt.plot(df_val['date'], y_pred, label='predict')\n",
        "  _ = plt.legend()"
      ]
    },
    {
      "cell_type": "markdown",
      "metadata": {
        "id": "R0wsiL96n-rZ"
      },
      "source": [
        "### Задача 3 - реализация наивной модели (1.5 балла)"
      ]
    },
    {
      "cell_type": "code",
      "execution_count": null,
      "metadata": {
        "id": "5kDpFuiCn-ra"
      },
      "outputs": [],
      "source": [
        "lag = len(df_val) # пусть будет так - но если хочется, можно другое число поставить\n",
        "\n",
        "### TODO ###\n",
        "# Необходимо для каждого i < len(df_val) добавить в y_pred то значение, которое было в df_train lag позиций назад\n",
        "# То есть для lag=5 у нас получится так:\n",
        "# * train = [1,2,3,4,5,6,7]\n",
        "# * pred  = [3,4,5]\n",
        "\n",
        "y_pred = []\n",
        "\n",
        "for i in range(len(df_val)):\n",
        "  ...\n",
        "\n",
        "\n",
        "plot_graph(y_pred)"
      ]
    },
    {
      "cell_type": "markdown",
      "metadata": {
        "id": "KSHkadmWn-ra"
      },
      "source": [
        "Вначале вроде как даже неплохо, но потом становится совсем плохо...\n",
        "\n",
        "Давайте оценим насколько все плохо - для этого посчитаем функцию\n",
        "$$\n",
        "MSE = \\frac{1}{n}\\sum_{i=0}^n (y_i - \\hat{y}_i)^2\n",
        "$$\n",
        "\n",
        "Где:\n",
        "\n",
        "* $y_i$ - правильно значение (которое `val`)\n",
        "* $\\hat{y}_i$ - предсказанное значение (которое `y_pred`)\n",
        "* $n$ - длина массива `y_pred` и `val`\n",
        "\n",
        "Реализуйте эту функцию!"
      ]
    },
    {
      "cell_type": "markdown",
      "metadata": {
        "id": "PIAfDLY7n-ra"
      },
      "source": [
        "### Задача 4 - реализация MSE (1.5 балла)"
      ]
    },
    {
      "cell_type": "code",
      "execution_count": null,
      "metadata": {
        "id": "3dyJnfR0n-ra"
      },
      "outputs": [],
      "source": [
        "# TODO\n",
        "\n",
        "def MSE(y_true, y_pred):\n",
        "  result = ...\n",
        "  return result"
      ]
    },
    {
      "cell_type": "code",
      "execution_count": null,
      "metadata": {
        "id": "CO9MGCxEn-rb"
      },
      "outputs": [],
      "source": [
        "mse = MSE(list(df_val['target']), y_pred)\n",
        "print(mse)\n",
        "\n",
        "assert np.isclose(mse, 17.575336), \"Функция делает что-то не так...\""
      ]
    },
    {
      "cell_type": "markdown",
      "metadata": {
        "id": "EbHGrL__n-rb"
      },
      "source": [
        "Сложно сказать, хорошо это или нет, но будем считать эту ошибку ориентиром - _бейзлайном_. Наша цель - сделать ее как можно меньше (а значит предсказание станет наиболее точным)."
      ]
    },
    {
      "cell_type": "markdown",
      "metadata": {
        "id": "suIdjvoIn-rb"
      },
      "source": [
        "# Шаг 4: Линейная регрессия (6 баллов)\n",
        "\n",
        "Наш следующий шаг - построить линейную регрессию. К огромному счастью, в питоне это все уже есть, а значит наша задача лишь подготовить данные"
      ]
    },
    {
      "cell_type": "markdown",
      "metadata": {
        "id": "BEUAR3YBn-rb"
      },
      "source": [
        "## Регрессия на одном параметре (2 балла)\n",
        "\n",
        "Для начала давайте попробуем, как в примере на лекции, построить регрессию, в которой `x` будет равен дню в месяце.\n",
        "\n",
        "<details><summary> Подсказка 1 </summary>\n",
        "\n",
        "Не забывайте о том, что по `df_train['date']` можно итерироваться!\n",
        "\n",
        "</details>\n",
        "\n",
        "<details><summary> Подсказка 2 </summary>\n",
        "\n",
        "Для каждого `x` в `df_train['date']` можно сделать `x.day` и получить день месяца.\n",
        "\n",
        "</details>"
      ]
    },
    {
      "cell_type": "code",
      "execution_count": null,
      "metadata": {
        "id": "bdhWebR1n-rb"
      },
      "outputs": [],
      "source": [
        "# Достаем модель - линейную регрессию\n",
        "from sklearn.linear_model import LinearRegression\n",
        "\n",
        "# Почти у всех основных моделей в ML есть основные методы:\n",
        "# * fit() - обучение модели, на вход как правило подается X - данные, y - целевое значение\n",
        "# * predict() - предсказание, на вход подается X - возвраещается y_pred\n",
        "\n",
        "# Определяем модель\n",
        "model = LinearRegression()\n",
        "\n",
        "# TODO\n",
        "# X и X_val строятся одинаковым алгоритмом, но на разных датасетах. Мы чуть раньше рассказывали чем они отличаются.\n",
        "\n",
        "y = list(df_train['target'])\n",
        "X = ...\n",
        "X_val = ...\n",
        "\n",
        "\n",
        "# Тут сначала оборачиваем в массив numpy, потом делаем так, чтобы числа были в столбик, а не в строку\n",
        "X = np.array(X).reshape(-1, 1)\n",
        "X_val = np.array(X_val).reshape(-1, 1)\n",
        "# Ну и обучаем, конечно\n",
        "model.fit(X, y)\n",
        "\n",
        "y_pred = model.predict(X_val)\n",
        "\n",
        "plot_graph(y_pred)"
      ]
    },
    {
      "cell_type": "markdown",
      "metadata": {
        "id": "AVwqpbEOn-rc"
      },
      "source": [
        "Получилось что-то странное, не так ли? И в этом на самом деле нет ничего странного - насколько мы помним, наша функция принимала вид $y=kx$, а даже при учете, что дни чередуются, описать что-то хорошо не получится :(\n",
        "\n",
        "В любом случае, посчитаем MSE"
      ]
    },
    {
      "cell_type": "code",
      "execution_count": null,
      "metadata": {
        "id": "oajfiN7Hn-rc"
      },
      "outputs": [],
      "source": [
        "MSE(y_pred, list(df_val['target']))"
      ]
    },
    {
      "cell_type": "markdown",
      "metadata": {
        "id": "VjQL-NOgn-rc"
      },
      "source": [
        "Cурово. Попробуем сделать регрессию на нескольких параметрах - построим $y=\\sum k_ix_i$"
      ]
    },
    {
      "cell_type": "markdown",
      "metadata": {
        "id": "we_uOnasn-rc"
      },
      "source": [
        "## Регрессия на нескольких параметрах (4 балла)\n",
        "\n",
        "Вообще, по графику можно увидеть, что линейной функцией приблизить не получится - вот бы можно было сделать что-то вроде $y=k_1x_1 + k_2x_2^2$...\n",
        "\n",
        "Но ведь так можно сделать! С одно стороны, это уже полиномиальная регрессия, с другой стороны - это линейная регрессия, в которой есть полиномы. Поэтому давайте создадим эти полиномы - сделайте аналогично прыдущему пункту, но теперь мы будем обучаться не на `[day]`, а на `[day, day^2, month, month^2]`"
      ]
    },
    {
      "cell_type": "code",
      "execution_count": null,
      "metadata": {
        "id": "Mo0kDT4fn-rc"
      },
      "outputs": [],
      "source": [
        "model = LinearRegression()\n",
        "\n",
        "# TODO\n",
        "\n",
        "y = list(df_train['target'])\n",
        "X = ...\n",
        "X_val = ...\n",
        "\n",
        "\n",
        "# Тут сначала оборачиваем в массив numpy, потом делаем так, чтобы числа были в столбик, а не в строку\n",
        "X = np.array(X).reshape(-1, 4)\n",
        "X_val = np.array(X_val).reshape(-1,4)\n",
        "# Ну и обучаем, конечно\n",
        "model.fit(X, y)\n",
        "\n",
        "y_pred = model.predict(X_val)\n",
        "\n",
        "plot_graph(y_pred)"
      ]
    },
    {
      "cell_type": "code",
      "execution_count": null,
      "metadata": {
        "id": "vxUkPRuBn-rc"
      },
      "outputs": [],
      "source": [
        "MSE(y_pred, list(df_val['target']))"
      ]
    },
    {
      "cell_type": "markdown",
      "metadata": {
        "id": "fC47p6Qkn-rd"
      },
      "source": [
        "Ну это ведь уже совсем другое дело! Даже на графике видно, что стало заметно лучше, а MSE стал лучше почти на 40%! И все благодаря тому, что мы добавили несколько экзогенных переменных.\n",
        "\n",
        "На самом деле, Линейная регрессия - штука очень мощная. И не просто так всякие дата-саентисты часто ей пользуются - ведь она умеет так:"
      ]
    },
    {
      "cell_type": "code",
      "execution_count": null,
      "metadata": {
        "id": "r1DVTORKn-rd"
      },
      "outputs": [],
      "source": [
        "list(model.coef_)"
      ]
    },
    {
      "cell_type": "markdown",
      "metadata": {
        "id": "MznGSzTEn-rd"
      },
      "source": [
        "Это коэфициенты нашей модели - $i$-й коэфициент соответсвует $i$-му параметру в $X$.\n",
        "\n",
        "Видно, что модель обращает большое внимание на месяц, а не на день - именно поэтому наша предыдущая модель была такой плохой.\n",
        "\n",
        "---\n",
        "\n",
        "Не думайте, что линейная регрессия это не тру - ради интереса можете попробовать добавить еще параметров. Вот увидите, результат может быть очень крутым 😁"
      ]
    },
    {
      "cell_type": "markdown",
      "metadata": {
        "id": "8lhVELhXn-rd"
      },
      "source": []
    }
  ],
  "metadata": {
    "kernelspec": {
      "display_name": "Python 3",
      "language": "python",
      "name": "python3"
    },
    "language_info": {
      "name": "python",
      "version": "3.12.1"
    },
    "colab": {
      "provenance": []
    }
  },
  "nbformat": 4,
  "nbformat_minor": 0
}