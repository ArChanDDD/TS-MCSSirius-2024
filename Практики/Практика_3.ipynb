{
  "nbformat": 4,
  "nbformat_minor": 0,
  "metadata": {
    "colab": {
      "provenance": []
    },
    "kernelspec": {
      "name": "python3",
      "display_name": "Python 3"
    },
    "language_info": {
      "name": "python"
    }
  },
  "cells": [
    {
      "cell_type": "markdown",
      "source": [
        "# Практика 3. Соревнование"
      ],
      "metadata": {
        "id": "1cCo_SnKXUM0"
      }
    },
    {
      "cell_type": "markdown",
      "source": [
        "Никогда такого не было, и вот опять клонируем репу в гите."
      ],
      "metadata": {
        "id": "6-dLGNW6XdaG"
      }
    },
    {
      "cell_type": "code",
      "execution_count": null,
      "metadata": {
        "id": "VRD2Ib_MQ-mK"
      },
      "outputs": [],
      "source": [
        "!git clone https://github.com/ArChanDDD/TS-MCSSirius-2024.git"
      ]
    },
    {
      "cell_type": "markdown",
      "source": [
        "## Подготовка"
      ],
      "metadata": {
        "id": "D-pvT1xPgckq"
      }
    },
    {
      "cell_type": "markdown",
      "source": [
        "Импортируем все нужные библиотеки. Старайтесь все импорты держать в начале ноута."
      ],
      "metadata": {
        "id": "15vgqd5ZX3oA"
      }
    },
    {
      "cell_type": "code",
      "source": [
        "import pandas as pd\n",
        "import matplotlib.pyplot as plt\n",
        "import numpy as np\n",
        "from datetime import datetime"
      ],
      "metadata": {
        "id": "fWAnkvUARH5v"
      },
      "execution_count": null,
      "outputs": []
    },
    {
      "cell_type": "markdown",
      "source": [
        "Добавим функцию для построения графика. Обратите внимание, что помимо валидационных данных и предсказаниях на них появились ещё тестовые данные (импортируем их в параграфе ниже)."
      ],
      "metadata": {
        "id": "_a4QmAB8X4zf"
      }
    },
    {
      "cell_type": "code",
      "source": [
        "def plot_graph(y_pred):\n",
        "  _, _ = plt.subplots(1,1,figsize=(18,10))\n",
        "  _ = plt.plot(df_train['date'], df_train['target'], label='train')\n",
        "  _ = plt.plot(df_val['date'], df_val['target'], label='val')\n",
        "  _ = plt.plot(df_val['date'], y_pred_val, label='predict')\n",
        "  _ = plt.plot(df_test['date'], y_pred, label='forecast')\n",
        "  _ = plt.legend()"
      ],
      "metadata": {
        "id": "LiN5bm5GRP72"
      },
      "execution_count": null,
      "outputs": []
    },
    {
      "cell_type": "markdown",
      "source": [
        "Импортируем данные, делим их на тренировочные, валидационные и тестовые (тестовые в отдельном файле, **там нет таргета**, круто да?). Также не забываем привести дату в правильный формат."
      ],
      "metadata": {
        "id": "iX3yxp5GYMXe"
      }
    },
    {
      "cell_type": "code",
      "source": [
        "# Считываем трейн и тест\n",
        "df = pd.read_csv('TS-MCSSirius-2024/data/DailyDelhiClimateTrain.csv')\n",
        "df_test = pd.read_csv('TS-MCSSirius-2024/data/DailyDelhiClimateTest.csv')\n",
        "# Приводим данные к нужному формату\n",
        "df['date'] = [datetime.strptime(x, '%Y-%m-%d') for x in list(df['date'])]\n",
        "df_test['date'] = [datetime.strptime(x, '%Y-%m-%d') for x in list(df_test['date'])]\n",
        "# Не забываем указать таргет\n",
        "df['target'] = df['meantemp']\n",
        "# Делим трейн на тренировочный и валидационный датасеты\n",
        "val_start = 114\n",
        "df_train = df[:-val_start]\n",
        "df_val = df[-val_start:]"
      ],
      "metadata": {
        "id": "YyrHGbYJbT2a"
      },
      "execution_count": null,
      "outputs": []
    },
    {
      "cell_type": "markdown",
      "source": [
        "Обучим, для примера, линейную регрессию, как это было в практике 1. Только помимо предсказаний на валидационном множестве сделаем предсказания ещё и на тесте."
      ],
      "metadata": {
        "id": "xzPdaNklceKv"
      }
    },
    {
      "cell_type": "markdown",
      "source": [
        "## Тупая Линейная регрессия"
      ],
      "metadata": {
        "id": "BYNU7KJVgqYO"
      }
    },
    {
      "cell_type": "code",
      "source": [
        "# Достаем модель - линейную регрессию\n",
        "from sklearn.linear_model import LinearRegression\n",
        "\n",
        "# Почти у всех основных моделей в ML есть основные методы:\n",
        "# * fit() - обучение модели, на вход как правило подается X - данные, y - целевое значение\n",
        "# * predict() - предсказание, на вход подается X - возвраещается y_pred\n",
        "\n",
        "# Определяем модель\n",
        "model = LinearRegression()\n",
        "\n",
        "# TODO\n",
        "# X и X_val строятся одинаковым алгоритмом, но на разных датасетах. Мы чуть раньше рассказывали чем они отличаются.\n",
        "\n",
        "y = list(df_train['target'])\n",
        "\n",
        "X = df_train['date'].dt.day\n",
        "X_val = df_val['date'].dt.day\n",
        "X_test = df_test['date'].dt.day\n",
        "\n",
        "\n",
        "# Тут сначала оборачиваем в массив numpy, потом делаем так, чтобы числа были в столбик, а не в строку\n",
        "X = np.array(X).reshape(-1, 1)\n",
        "X_val = np.array(X_val).reshape(-1, 1)\n",
        "X_val = np.array(X_val).reshape(-1, 1)\n",
        "# Ну и обучаем, конечно\n",
        "model.fit(X, y)\n",
        "\n",
        "y_pred_val = model.predict(X_val)\n",
        "y_pred = model.predict(X_test)\n",
        "\n",
        "plot_graph(y_pred)"
      ],
      "metadata": {
        "id": "eFzlCM1mSXrC"
      },
      "execution_count": null,
      "outputs": []
    },
    {
      "cell_type": "markdown",
      "source": [
        "P.S. Красненькая линия - итоговое предсказание на тесте. Кроме как \"на глаз\" её оценить не получится, так что смотрите чтобы было красиво.\n"
      ],
      "metadata": {
        "id": "lDlVsPFIdae1"
      }
    },
    {
      "cell_type": "markdown",
      "source": [
        "## Генерация файла"
      ],
      "metadata": {
        "id": "38DSWJ6agxXq"
      }
    },
    {
      "cell_type": "markdown",
      "source": [
        "Генерируем файл который будет теститься ботом. После выполнения параграфа его надо скачать и отправить в бота через /send_solution."
      ],
      "metadata": {
        "id": "AHYSHqa9doUk"
      }
    },
    {
      "cell_type": "code",
      "source": [
        "# сюда надо вписать своё имя и фамилию\n",
        "student = 'Олег Тиньков'\n",
        "\n",
        "df_test['predicted'] = y_pred\n",
        "df_test[['date', 'predicted']].to_csv('submission ' + student +'.csv')"
      ],
      "metadata": {
        "id": "UXqlHWX3VW0P"
      },
      "execution_count": null,
      "outputs": []
    },
    {
      "cell_type": "markdown",
      "source": [
        "Теперь у вас есть все необходимое для участия в соревновании. Применяйте что захотите, цель одна – получить наименьший MSE."
      ],
      "metadata": {
        "id": "cqHUAooLfVPB"
      }
    },
    {
      "cell_type": "markdown",
      "source": [
        "## Эксперименты!!!\n",
        "\n",
        "Дальше вы можете делать что угодно - крутить линейную регрессию, попробовать [XGBoost](https://machinelearningmastery.com/xgboost-for-regression/) (там есть код, не бойтесь, читать все не надо), или же довести до ума ARIMA (в `pmdarima` есть `X=...` в `fit` и `predict`, а так же сезонности - вот вам и **SARIMAX**).\n",
        "\n",
        "### Рекомендации\n",
        "\n",
        "1. Копируйте код - не меняйте код сверху, иначе может случиться ситуация, когда вообще все сломается, и придется начинать сначала(\n",
        "\n",
        "2. Пользуйтесь старыми практиками - там много полезного\n",
        "\n",
        "3. Пользуйтесь функцией для генерации итогового датафрейма - бот может начать ругаться, если что-то не так будет."
      ],
      "metadata": {
        "id": "JLcPGVAKgz-i"
      }
    },
    {
      "cell_type": "code",
      "source": [
        "# TODO:"
      ],
      "metadata": {
        "id": "M-ql1bUgfgIV"
      },
      "execution_count": null,
      "outputs": []
    }
  ]
}