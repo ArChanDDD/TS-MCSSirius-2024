{
  "nbformat": 4,
  "nbformat_minor": 0,
  "metadata": {
    "colab": {
      "provenance": [],
      "toc_visible": true
    },
    "kernelspec": {
      "name": "python3",
      "display_name": "Python 3"
    },
    "language_info": {
      "name": "python"
    }
  },
  "cells": [
    {
      "cell_type": "markdown",
      "source": [
        "# Практика 2"
      ],
      "metadata": {
        "id": "A9hwsHbsMqwZ"
      }
    },
    {
      "cell_type": "markdown",
      "source": [
        "Вернемся к ~нашим баранам~ датасету с климатом в Дэли."
      ],
      "metadata": {
        "id": "DcGura5iR5Pp"
      }
    },
    {
      "cell_type": "code",
      "source": [
        "!git clone https://github.com/ArChanDDD/TS-MCSSirius-2024.git"
      ],
      "metadata": {
        "id": "4c55amdLNx6d"
      },
      "execution_count": null,
      "outputs": []
    },
    {
      "cell_type": "code",
      "execution_count": null,
      "metadata": {
        "id": "tJtElTwoMjW2"
      },
      "outputs": [],
      "source": [
        "from datetime import datetime\n",
        "import pandas as pd\n",
        "import numpy as np\n",
        "import matplotlib.pyplot as plt\n",
        "\n",
        "df = pd.read_csv('TS-MCSSirius-2024/data/DailyDelhiClimateTrain.csv')\n",
        "df['date'] = [datetime.strptime(x, '%Y-%m-%d') for x in list(df['date'])]\n",
        "df.head()"
      ]
    },
    {
      "cell_type": "code",
      "source": [
        "df['target'] = df['meantemp']\n",
        "_, _ = plt.subplots(1,1,figsize=(20,10))\n",
        "_ = plt.plot(df['date'], df['target'])"
      ],
      "metadata": {
        "id": "PyGyfCY4R2cg"
      },
      "execution_count": null,
      "outputs": []
    },
    {
      "cell_type": "markdown",
      "source": [
        "# Стационарный ряд"
      ],
      "metadata": {
        "id": "cZR3_PSpMuxb"
      }
    },
    {
      "cell_type": "markdown",
      "source": [
        "Проверим наш ряд на стационарность с помошью теста Дики-Фуллера"
      ],
      "metadata": {
        "id": "_DMtLc25f3vK"
      }
    },
    {
      "cell_type": "code",
      "source": [
        "from statsmodels.tsa.stattools import adfuller\n",
        "\n",
        "# Выполняем тест Дики-Фуллера на стационарность\n",
        "result = adfuller(df['meantemp'])\n",
        "\n",
        "# Вывод результатов теста\n",
        "print('ADF статистика:', result[0])\n",
        "print('p-значение:', result[1])"
      ],
      "metadata": {
        "id": "q3kFSpFkf3Km"
      },
      "execution_count": null,
      "outputs": []
    },
    {
      "cell_type": "markdown",
      "source": [
        "Понятно что ряд нестационарный (и по графику видно), p-значние > 0,05"
      ],
      "metadata": {
        "id": "lDy9i0XRgW4e"
      }
    },
    {
      "cell_type": "markdown",
      "source": [
        "## Задание 1 - приведение ряда к стационарному виду - 1.5 балла\n",
        "Приведите ряд к стационарному не используя библиотечных функций.\n",
        "Для этого по сути нужно дифференцировать ряд - в дискретном случае (как у нас), достаточно посчитать разность соседних значений."
      ],
      "metadata": {
        "id": "kC8yVEbcTMeM"
      }
    },
    {
      "cell_type": "code",
      "source": [
        "def make_stationary(time_series):\n",
        "  stationary_series = [np.nan] # заполняем первое значение пустым, потому что разность не определена\n",
        "  for i in range(1, len(time_series)):\n",
        "      # Вычисляем разность между текущим и предыдущим элементом ряда\n",
        "      # TODO\n",
        "\n",
        "      # Добавляем разность в стационарный ряд\n",
        "      # TODO\n",
        "\n",
        "  return pd.Series(stationary_series)\n",
        "\n",
        "assert len(make_stationary(df['meantemp']).compare(df['meantemp'].diff()))==0"
      ],
      "metadata": {
        "id": "Szn4C1aETheg"
      },
      "execution_count": null,
      "outputs": []
    },
    {
      "cell_type": "markdown",
      "source": [
        "Посмотрим что получилось"
      ],
      "metadata": {
        "id": "8gJkbVlbXWzS"
      }
    },
    {
      "cell_type": "code",
      "source": [
        "df['target'] = make_stationary(df['meantemp'])\n",
        "\n",
        "_, _ = plt.subplots(1,1,figsize=(20,10))\n",
        "_ = plt.plot(df['date'], df['target'])"
      ],
      "metadata": {
        "id": "0lV-i_0rS5Ia"
      },
      "execution_count": null,
      "outputs": []
    },
    {
      "cell_type": "code",
      "source": [
        "# Выполняем тест Дики-Фуллера на стационарность\n",
        "result = adfuller(df['target'].dropna())\n",
        "\n",
        "# Вывод результатов теста\n",
        "print('ADF статистика:', result[0])\n",
        "print('p-значение:', '%.30f' % result[1])"
      ],
      "metadata": {
        "id": "rhQjCoC8hBp2"
      },
      "execution_count": null,
      "outputs": []
    },
    {
      "cell_type": "markdown",
      "source": [
        "Теперь он ну очень стационарный. Только вот мы совсем никак не учли сезонность. Предсказывать что-то на таком ряду сомнительно. Мы знаем что у нас данные по дням, а значит есть сезонность 365 дней."
      ],
      "metadata": {
        "id": "t6h5P0Q6h0xu"
      }
    },
    {
      "cell_type": "code",
      "source": [
        "def make_stationary(time_series, seasonality):\n",
        "  stationary_series = [np.nan] * seasonality # заполняем первое значение пустым, потому что разность не определена\n",
        "  for i in range(seasonality, len(time_series)):\n",
        "      # Вычисляем разность между текущим и предыдущим элементом ряда\n",
        "      difference = time_series[i] - time_series[i-seasonality] # это выпиливаем\n",
        "      # Добавляем разность в стационарный ряд\n",
        "      stationary_series.append(difference)\n",
        "\n",
        "  return pd.Series(stationary_series)\n",
        "\n",
        "assert len(make_stationary(df['meantemp'],365).compare(df['meantemp'].diff(365)))==0"
      ],
      "metadata": {
        "id": "zDrmhRatiyMn"
      },
      "execution_count": null,
      "outputs": []
    },
    {
      "cell_type": "code",
      "source": [
        "df['target'] = df['meantemp'].diff(365)\n",
        "\n",
        "_, _ = plt.subplots(1,1,figsize=(20,10))\n",
        "_ = plt.plot(df['date'], df['target'])"
      ],
      "metadata": {
        "id": "0GO5Kt8JVUcC"
      },
      "execution_count": null,
      "outputs": []
    },
    {
      "cell_type": "markdown",
      "source": [
        "Hу так же намного красивее, правда? Убедимся что он все ещё стационарный.\n"
      ],
      "metadata": {
        "id": "Yoxzb9NBjYk4"
      }
    },
    {
      "cell_type": "code",
      "source": [
        "# Выполняем тест Дики-Фуллера на стационарность\n",
        "result = adfuller(df['target'].dropna())\n",
        "\n",
        "# Вывод результатов теста\n",
        "print('ADF статистика:', result[0])\n",
        "print('p-значение:', '%.30f' % result[1])"
      ],
      "metadata": {
        "id": "V789anTifZt2"
      },
      "execution_count": null,
      "outputs": []
    },
    {
      "cell_type": "markdown",
      "source": [
        "p-value всё ещё достаточно меньше чем 0,05."
      ],
      "metadata": {
        "id": "RGZSTOprjpj5"
      }
    },
    {
      "cell_type": "markdown",
      "source": [
        "# AR(p)\n",
        "\n",
        "Вернемся к нашим стандартным данным и попробуем реализовать метод `AR(p)`.\n",
        "\n",
        "Напомним, согласно этому методу:\n",
        "\n",
        "$$\n",
        "  Y_t = Y_{t-1}b_1 + Y_{t-2}b_2 + \\dots + Y_{t-p}b_p\n",
        "$$\n",
        "\n",
        "Фактически, это линейная регрессия, для которой мы задаем только $p$ - максимальный лаг, на который мы смотрим.\n",
        "\n",
        "Давайте начнем."
      ],
      "metadata": {
        "id": "1PE-yfer3lqN"
      }
    },
    {
      "cell_type": "code",
      "source": [
        "# Выберем за таргет температуру\n",
        "target = 'meantemp'"
      ],
      "metadata": {
        "id": "IzsWwTKe3dWu"
      },
      "execution_count": null,
      "outputs": []
    },
    {
      "cell_type": "markdown",
      "source": [
        "## Задание 2 - реализуйте функцию создания лага - 1.5 балла\n",
        "\n",
        "Для этого нужно для каждого $i$ от $1$ до $p$ включительно создать добавить в массив `df_lag` список температур, начиная с $i$ элемента.\n",
        "\n",
        "Учтите, что делать `append` можно только для списков с той же длиной, что и у других списков в этом массиве. Поэтому рекомендуем после \"обрезания\" списка делать еще `+ [0] * i` - так вы оставите длину списка прежней.\n",
        "\n",
        "Например, для списка `[1,2,3,4,5,6,7,8,9]` и `i=3` мы получим список `[4,5,6,7,8,9,0,0,0]`.\n",
        "\n",
        "p.s. вообще можете делать своим методом - важен лишь результат"
      ],
      "metadata": {
        "id": "Wqqh2akD79Hx"
      }
    },
    {
      "cell_type": "code",
      "source": [
        "P = 307\n",
        "df_lag = []\n",
        "\n",
        "def create_lag(arr, i):\n",
        "  # TODO\n",
        "\n",
        "for i in range(1, P+1):\n",
        "  df_lag.append(create_lag(df[target], i))"
      ],
      "metadata": {
        "id": "BxxpE_mi3egL"
      },
      "execution_count": null,
      "outputs": []
    },
    {
      "cell_type": "markdown",
      "source": [
        "Теперь сделаем из них привычные нам `X` и `y` - для этого просто транспонируем полученные лаги, и обрежем их до p с конца - потому что $p-1$ строка как раз содержит данные, необходимые для предсказания последнего в `df[target]` элемента."
      ],
      "metadata": {
        "id": "Yg2vDG7D9VPy"
      }
    },
    {
      "cell_type": "code",
      "source": [
        "X = np.array(df_lag).reshape(-1, P)[:-P]\n",
        "y = np.array(df[target][P:]).reshape(-1, 1)"
      ],
      "metadata": {
        "id": "vBJJsuX84fCg"
      },
      "execution_count": null,
      "outputs": []
    },
    {
      "cell_type": "markdown",
      "source": [
        "## Задание 3 - реализуйте линейную регрессию и обучите ее - 1.5 балла\n",
        "\n",
        "Все как делали на прошлой практике - импортируем, создаем модель, и обучаем ее :)"
      ],
      "metadata": {
        "id": "JRXEuTjh9xVr"
      }
    },
    {
      "cell_type": "code",
      "source": [
        "# TODO"
      ],
      "metadata": {
        "id": "yA7yVMxB5fTl"
      },
      "execution_count": null,
      "outputs": []
    },
    {
      "cell_type": "markdown",
      "source": [
        "Проверим вашу модель - для этого предскажем данные для `X` и нарисуем че получилось:"
      ],
      "metadata": {
        "id": "GHQMJBo6-DO-"
      }
    },
    {
      "cell_type": "code",
      "source": [
        "y_pred = model.predict(X)\n",
        "\n",
        "_, _ = plt.subplots(1,1, figsize = (20,10))\n",
        "plt.plot(y)\n",
        "plt.plot(y_pred)"
      ],
      "metadata": {
        "id": "3b3jEj6k6Zxw"
      },
      "execution_count": null,
      "outputs": []
    },
    {
      "cell_type": "markdown",
      "source": [
        "При достаточно большом $p$ тут можно увидеть крутое совпадение. Если у вас не так - попробуйте увеличить $p$ и запустить ячейки заново."
      ],
      "metadata": {
        "id": "rIYwGrDf-iuI"
      }
    },
    {
      "cell_type": "markdown",
      "source": [
        "# Проверка результата\n",
        "\n",
        "Но не так важно, как мы предсказываем существующие данные - мы же на них и обучались!\n",
        "\n",
        "Давайте лучше создадим валидационный датасет и проверим качество на нем!"
      ],
      "metadata": {
        "id": "_WUFoKEv-ybE"
      }
    },
    {
      "cell_type": "code",
      "source": [
        "df_train = df[['date', 'meantemp']][:1300]\n",
        "df_val = df[['date', 'meantemp']][1300:]"
      ],
      "metadata": {
        "id": "Hq3ZKLt0_8s5"
      },
      "execution_count": null,
      "outputs": []
    },
    {
      "cell_type": "code",
      "source": [
        "plt.plot(df_train['date'], df_train['meantemp'], label='train')\n",
        "plt.plot(df_val['date'], df_val['meantemp'], label='val')\n",
        "_ = plt.legend()"
      ],
      "metadata": {
        "id": "1AMSOYuNAgQk"
      },
      "execution_count": null,
      "outputs": []
    },
    {
      "cell_type": "code",
      "source": [
        "def prepare_and_train_model(p):\n",
        "  df_lag = []\n",
        "  for i in range(1, p+1):\n",
        "    df_lag.append(create_lag(df_train['meantemp'], i))\n",
        "  X = np.array(df_lag).reshape(-1, p)[:-p]\n",
        "  y = np.array(df_train[target][p:]).reshape(-1, 1)\n",
        "\n",
        "  model = LinearRegression()\n",
        "  model.fit(X, y)\n",
        "\n",
        "  return model\n",
        "\n",
        "def smart_predict(model, p):\n",
        "  df_lag = list(df_train['meantemp'][-p:])\n",
        "  predicted = []\n",
        "  while len(predicted) != len(df_val):\n",
        "    predicted_val = model.predict([df_lag])[0,0]\n",
        "    predicted.append(predicted_val)\n",
        "    df_lag.append(predicted_val)\n",
        "    df_lag = df_lag[1:]\n",
        "  return predicted"
      ],
      "metadata": {
        "id": "9vVirH0B6nMJ"
      },
      "execution_count": null,
      "outputs": []
    },
    {
      "cell_type": "markdown",
      "source": [
        "## Задание 4 - используя функции выше, напишите код для получения предсказанных значений - 1.5 балла"
      ],
      "metadata": {
        "id": "_O6KrvGRD_p1"
      }
    },
    {
      "cell_type": "code",
      "source": [
        "def pipeline(p):\n",
        "  # TODO\n",
        "  predicted = ...\n",
        "  return predicted"
      ],
      "metadata": {
        "id": "sibeT2ZoBuQo"
      },
      "execution_count": null,
      "outputs": []
    },
    {
      "cell_type": "code",
      "source": [
        "def plot(pred):\n",
        "  plt.plot(df_train['date'], df_train['meantemp'], label='train')\n",
        "  plt.plot(df_val['date'], df_val['meantemp'], label='val')\n",
        "  plt.plot(df_val['date'], pred, label='pred')\n",
        "  _ = plt.legend()"
      ],
      "metadata": {
        "id": "h6y5HePPB2tE"
      },
      "execution_count": null,
      "outputs": []
    },
    {
      "cell_type": "code",
      "source": [
        "plot(pipeline(P))"
      ],
      "metadata": {
        "id": "U1Nf67JGCwrW"
      },
      "execution_count": null,
      "outputs": []
    },
    {
      "cell_type": "code",
      "source": [
        "def mse(y_true, y_pred):\n",
        "  return np.mean((y_pred - y_true) ** 2)"
      ],
      "metadata": {
        "id": "Kx-LY7q8C87I"
      },
      "execution_count": null,
      "outputs": []
    },
    {
      "cell_type": "markdown",
      "source": [
        "## Задание 5 - Подберите такой p, чтобы MSE был ниже 30. - 4 балла"
      ],
      "metadata": {
        "id": "Yh-y_aDrKYOB"
      }
    },
    {
      "cell_type": "code",
      "source": [
        "# TODO"
      ],
      "metadata": {
        "id": "06XsLdz9Jo_i"
      },
      "execution_count": null,
      "outputs": []
    }
  ]
}